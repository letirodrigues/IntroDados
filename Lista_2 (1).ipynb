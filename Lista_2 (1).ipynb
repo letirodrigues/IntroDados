{
 "cells": [
  {
   "cell_type": "markdown",
   "metadata": {},
   "source": [
    "# Lista 2 - Letícia Rodrigues"
   ]
  },
  {
   "cell_type": "code",
   "execution_count": 1,
   "metadata": {},
   "outputs": [],
   "source": [
    "import matplotlib.pyplot as plt\n",
    "import numpy as np\n",
    "import time"
   ]
  },
  {
   "cell_type": "markdown",
   "metadata": {},
   "source": [
    "**(1)** Crie uma função, nomeando-a por \"produto\", que recebe duas matrizes $A\\in\\mathbb{R}^{m\\times n}$ e $B\\in\\mathbb{R}^{n\\times p}$, e realiza o produto dessas matrizes, retornando $C = A \\times B \\in\\mathbb{R}^{m \\times p}$. Não utilize nenhuma biblioteca para realizar essa multiplicação (apenas estruturas como for, somas, etc). Por outro lado, você pode utilizar o numpy para definir a matriz C."
   ]
  },
  {
   "cell_type": "code",
   "execution_count": 2,
   "metadata": {},
   "outputs": [],
   "source": [
    "def produto(A,B):\n",
    "    \n",
    "    LinhaA = len(A)\n",
    "    ColunaA = len(A[0])\n",
    "    LinhaB = len(B)\n",
    "    ColunaB = len(B[0])\n",
    "    \n",
    "    if ColunaA != LinhaB:\n",
    "        return \"Dessa forma não existe produto das matrizes!\"\n",
    "    \n",
    "    vetorpasso3 =[]\n",
    "    \n",
    "    for i in range (0, LinhaA):\n",
    "        vetorpasso2 = []\n",
    "        for j in range (0, ColunaB):\n",
    "            linha = (A[i,:])\n",
    "            coluna = (B[:,j])\n",
    "            vetorpasso1 = []\n",
    "            for k in range (0, len(linha)):\n",
    "                elemento = (linha[k])*(coluna[k])\n",
    "                vetorpasso1.append(elemento)\n",
    "            vetorpasso2.append(sum(vetorpasso1))\n",
    "            \n",
    "        vetorpasso3.append(vetorpasso2)\n",
    "    \n",
    "    C = np.array(vetorpasso3)\n",
    "    \n",
    "    \n",
    "    return C"
   ]
  },
  {
   "cell_type": "code",
   "execution_count": 3,
   "metadata": {},
   "outputs": [
    {
     "data": {
      "text/plain": [
       "array([[ 12,  71,  59],\n",
       "       [ 75, 348, 376],\n",
       "       [ 33, 159, 166]])"
      ]
     },
     "execution_count": 3,
     "metadata": {},
     "output_type": "execute_result"
    }
   ],
   "source": [
    "A = np.array([[2, 3, 5], [1, 2, 37], [1, 2, 16]])\n",
    "B = np.array([[1, 7, 0], [0, 4, 3], [2, 9, 10]])\n",
    "\n",
    "produto(A, B)"
   ]
  },
  {
   "cell_type": "markdown",
   "metadata": {},
   "source": [
    "**(2)** Crie, para n entre 1 e 1000, matrizes A e B aleatórias de dimensões nxn, e realize a multiplicação utilizando seu código. Guarde o tempo de execução das funções (utilize o \"time\" do python). Além disso, realize tais multiplicações (para as mesmas matrizes) utilizando a função \"dot\" do numpy e guarde os tempos."
   ]
  },
  {
   "cell_type": "code",
   "execution_count": 4,
   "metadata": {},
   "outputs": [],
   "source": [
    "y1= []\n",
    "y2= []\n",
    "\n",
    "for i in range (1,401):\n",
    "    A = np.random.rand(i,i)\n",
    "    B = np.random.rand(i,i)\n",
    "    \n",
    "    tempo1 = time.time()\n",
    "    produto(A,B)\n",
    "    tempo2 = time.time()\n",
    "    tempototal = (tempo2-tempo1)\n",
    "    y1.append(tempototal)\n",
    "    \n",
    "    tempo3 = time.time()\n",
    "    np.dot(A,B)\n",
    "    tempo4 = time.time()\n",
    "    tempototal2 = (tempo4-tempo3)\n",
    "    y2.append(tempototal2)\n",
    "    \n"
   ]
  },
  {
   "cell_type": "markdown",
   "metadata": {},
   "source": [
    "**(3)** Faça um plot com dois gráficos, onde o eixo x é a dimensão das matrizes e y os tempos obtidos para cada uma das estratégias."
   ]
  },
  {
   "cell_type": "code",
   "execution_count": 5,
   "metadata": {},
   "outputs": [
    {
     "data": {
      "image/png": "[encoded data removed]",
      "text/plain": [
       "<Figure size 432x288 with 1 Axes>"
      ]
     },
     "metadata": {
      "needs_background": "light"
     },
     "output_type": "display_data"
    }
   ],
   "source": [
    "x = [i for i in range (1,401)]\n",
    "\n",
    "plt.plot(x,y1,'-')\n",
    "plt.plot(x,y2,'-')\n",
    "plt.title('Tempo de execução')\n",
    "plt.xlabel('Tamanho da Matriz')\n",
    "plt.ylabel('Tempo ')\n",
    " \n",
    "plt.show()"
   ]
  }
 ],
 "metadata": {
  "kernelspec": {
   "display_name": "Python 3",
   "language": "python",
   "name": "python3"
  },
  "language_info": {
   "codemirror_mode": {
    "name": "ipython",
    "version": 3
   },
   "file_extension": ".py",
   "mimetype": "text/x-python",
   "name": "python",
   "nbconvert_exporter": "python",
   "pygments_lexer": "ipython3",
   "version": "3.8.5"
  }
 },
 "nbformat": 4,
 "nbformat_minor": 4
}
