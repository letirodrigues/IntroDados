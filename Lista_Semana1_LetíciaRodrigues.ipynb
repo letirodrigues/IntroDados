{
 "cells": [
  {
   "cell_type": "markdown",
   "metadata": {},
   "source": [
    "# Lista Semana 1 - Letícia R."
   ]
  },
  {
   "cell_type": "markdown",
   "metadata": {},
   "source": [
    "**Comparadores lógicos e Condicionais**"
   ]
  },
  {
   "cell_type": "markdown",
   "metadata": {},
   "source": [
    "**(8)** A nota final de um estudante é calculada a partir de três notas atribuídas entre o intervalo de 0 ate 10, respectivamente, a um trabalho de laboratório, um trabalho teórico e a uma avaliação semestral.<br>\n",
    "A media das três notas mencionadas anteriormente obedece aos pesos: Trabalho de Laboratorio: 2; Trabalho teórico: 2; Avaliação Semestral: 3. <br>\n",
    "\n",
    "Caso a média do aluno seja menor que 4, o aluno já está reprovado. Caso a média seja maior que 7, o aluno está aprovado. Caso a média seja entre 4 e 7 ele deverá fazer um exame final. Nesse caso, é feita uma média entre a média antiga e o exame final, onde se o aluno tiver resultado maior ou igual a 6 ele está aprovado.\n",
    "\n",
    "Crie um programa que peça as três primeiras notas de um aluno e dê o status 'Aprovado' ou 'Reprovado'. No caso de necessidade de exame final, peça a nota do exame final e dê o status 'Aprovado no exame final' ou 'Reprovado no exame final'."
   ]
  },
  {
   "cell_type": "code",
   "execution_count": 1,
   "metadata": {
    "scrolled": true
   },
   "outputs": [
    {
     "name": "stdout",
     "output_type": "stream",
     "text": [
      "Por favor, diga sua nota no Trabalho de Laboratório: 4\n",
      "Por favor, diga sua nota no Trabalho Teórico: 5\n",
      "Por favor, diga sua nota na Avaliação Semestral: 7\n",
      "\n",
      "Aluno de Exame Final com nota 5.6\n",
      "Por favor, diga sua nota no Exame Final 9\n",
      "\n",
      "Aluno aprovado no exame final com nota 7.3\n"
     ]
    }
   ],
   "source": [
    "a = float(input(\"Por favor, diga sua nota no Trabalho de Laboratório: \"))\n",
    "b = float(input(\"Por favor, diga sua nota no Trabalho Teórico: \")) \n",
    "c = float(input(\"Por favor, diga sua nota na Avaliação Semestral: \"))\n",
    "\n",
    "if 0<= a <=10 and 0<= b <=10 and  0<= c <=10 : \n",
    "    media = round(((a*2 + b*2 + c*3)/7), 1)\n",
    "    if media>= 7: print(\"\\nAluno aprovado com nota {}\".format(media))\n",
    "    elif 4<=media<7: \n",
    "        print(\"\\nAluno de Exame Final com nota {}\".format(media))\n",
    "        d = float(input(\"Por favor, diga sua nota no Exame Final \"))\n",
    "        mediafinal = round(((media + d)/2),1)\n",
    "        if mediafinal>=6:print(\"\\nAluno aprovado no exame final com nota {}\".format(mediafinal))\n",
    "        else: print(\"\\nAluno reprovado no exame final com nota {}\".format(mediafinal))    \n",
    "\n",
    "    else: print(\"\\nAluno reprovado com nota {}\".format(media))\n",
    "        \n",
    "else: print(\"\\nPreciso que as notas estejam no formato de 0 a 10 para calcular sua média\")"
   ]
  },
  {
   "cell_type": "markdown",
   "metadata": {},
   "source": [
    "**(10)** Faça um programa que mostre ao usuário um menu com 4 opcões de operações matemáticas (soma, subtração, multiplicação e divisão). O usuário escolhe uma das opções e o seu programa então pede dois valores numéricos e realiza a operação, mostrando o resultado."
   ]
  },
  {
   "cell_type": "code",
   "execution_count": 2,
   "metadata": {
    "scrolled": false
   },
   "outputs": [
    {
     "name": "stdout",
     "output_type": "stream",
     "text": [
      "Temos as seguintes operações:\n",
      "\n",
      "Adição + = opção 1\n",
      "Subtração - = opção 2\n",
      "Multiplicação * = opção 3\n",
      "Divisão / = opção 4\n",
      "\n",
      "Escolha uma opção (de 1 a 4): 2\n",
      "Escolha um número qualquer: 3\n",
      "Escolha outro número: 3\n",
      "\n",
      "A subtração de 3.0 e 3.0 é: 0.0 \n"
     ]
    }
   ],
   "source": [
    "print('Temos as seguintes operações:')\n",
    "print('\\nAdição + = opção 1')\n",
    "print('Subtração - = opção 2')\n",
    "print('Multiplicação * = opção 3')\n",
    "print('Divisão / = opção 4')\n",
    "\n",
    "a = int(input('\\nEscolha uma opção (de 1 a 4): '))\n",
    "n1 = float(input('Escolha um número qualquer: '))\n",
    "n2 = float(input('Escolha outro número: '))\n",
    "\n",
    "if a==1:\n",
    "    resultado = n1+n2\n",
    "    print('\\nA soma de {} e {} é: {} '.format(n1, n2, resultado))\n",
    "\n",
    "elif a==2:\n",
    "    resultado = n1-n2\n",
    "    print('\\nA subtração de {} e {} é: {} '.format(n1, n2, resultado))\n",
    "    \n",
    "elif a==3:\n",
    "    resultado = n1*n2\n",
    "    print('\\nA multiplicação de {} e {} é: {} '.format(n1, n2, resultado))\n",
    "    \n",
    "elif a==4:\n",
    "    resultado = n1/n2\n",
    "    print('\\nA divisão de {} e {} é: {} '.format(n1, n2, resultado))\n",
    "    \n",
    "else:\n",
    "    print('\\nDesculpe-me, não consegui identificar uma operação com essa opção.')"
   ]
  },
  {
   "cell_type": "markdown",
   "metadata": {},
   "source": [
    "**(15)** Faça um programa que recebe os coeficientes a, b e c da equação $ax^2+bx+c=0$, e diz se a equação tem 'Duas raízes reais', 'Uma raiz real' ou 'Nenhuma raiz real'. Após isso, imprima as raízes da equação (mesmo que suas raizes são complexas. Nesse caso, as raízes tem que apresentar forma $r1+i\\cdot r2$)"
   ]
  },
  {
   "cell_type": "code",
   "execution_count": 3,
   "metadata": {
    "scrolled": false
   },
   "outputs": [
    {
     "name": "stdout",
     "output_type": "stream",
     "text": [
      "Monte uma equação quadrática da forma ax^2+bx+c=0, irei achar as raízes para você!\n",
      "\n",
      "Defina seu coeficiente a: 3\n",
      "Defina seu coeficiente b: 2\n",
      "Defina seu coeficiente c: 6\n",
      "\n",
      "A equação possui duas raízes imaginárias, são elas -0.33333333333333326 + 𝑖⋅1.3743685418725535  e -0.3333333333333334 + 𝑖⋅-1.3743685418725535\n"
     ]
    }
   ],
   "source": [
    "print('Monte uma equação quadrática da forma ax^2+bx+c=0, irei achar as raízes para você!')\n",
    "\n",
    "a = float(input('\\nDefina seu coeficiente a: '))\n",
    "b = float(input('Defina seu coeficiente b: '))\n",
    "c = float(input('Defina seu coeficiente c: '))\n",
    "\n",
    "delta = (b**2 - (4*a*c))\n",
    "resultado1 = ((-b + (delta)**(1/2))/(2*a))\n",
    "resultado2 = ((-b - (delta)**(1/2))/(2*a))\n",
    "\n",
    "if delta > 0:\n",
    "    print('A equação possui duas raízes reais, são elas {} e {}'.format(resultado1, resultado2))\n",
    "\n",
    "elif delta == 0:\n",
    "    print('A equação possui uma raíz real, sendo ela igual a {}'.format(resultado1))\n",
    "\n",
    "elif delta < 0:\n",
    "    resultado1real = resultado1.real\n",
    "    resultado1imag = resultado1.imag \n",
    "    resultado2real = resultado2.real \n",
    "    resultado2imag = resultado2.imag \n",
    "    \n",
    "    print('\\nA equação possui duas raízes imaginárias, são elas {} + 𝑖⋅{}  e {} + 𝑖⋅{}'.format(resultado1real, resultado1.imag , resultado2real, resultado2.imag))"
   ]
  },
  {
   "cell_type": "markdown",
   "metadata": {},
   "source": [
    "**Listas e Loops**"
   ]
  },
  {
   "cell_type": "markdown",
   "metadata": {},
   "source": [
    "**(3)** Dado um inteiro positivo, n, o número harmônico, $Hn$, é definido pela soma <br>\n",
    "$$Hn = \\sum\\limits_{k=1}^n\\frac{1}{k}.$$\n",
    "Escreva um algoritmo que leia n e escreva como saída o valor de $Hn$."
   ]
  },
  {
   "cell_type": "code",
   "execution_count": 8,
   "metadata": {},
   "outputs": [
    {
     "name": "stdout",
     "output_type": "stream",
     "text": [
      "Por favor, insira um número inteiro positivo: 4\n",
      "O número harmônico do valor que você colocou é 2.083333333333333\n"
     ]
    }
   ],
   "source": [
    "k=1\n",
    "h=0\n",
    "\n",
    "n = int(input('Por favor, insira um número inteiro positivo: '))\n",
    "\n",
    "while k<=n: \n",
    "    h= h+(1/k)\n",
    "    k= k+1\n",
    "    \n",
    "print('O número harmônico do valor que você colocou é {}'.format(h))"
   ]
  },
  {
   "cell_type": "markdown",
   "metadata": {},
   "source": [
    "**(6)** Escreva um algoritmo que recebe uma lista de inteiros e diz se a lista está ou não ordenada. No caso negativo, além da mensagem de status imprima a lista ordenada."
   ]
  },
  {
   "cell_type": "code",
   "execution_count": 9,
   "metadata": {},
   "outputs": [
    {
     "name": "stdout",
     "output_type": "stream",
     "text": [
      "Iremos fazer uma lista com 5 números\n",
      "\n",
      "Escolha o primeiro elemento da sua lista: 6\n",
      "Escolha o segundo elemento da sua lista: 2\n",
      "Escolha o terceiro elemento da sua lista: 3\n",
      "Escolha o quarto elemento da sua lista: 1\n",
      "Escolha o quinto elemento da sua lista: 9\n",
      "\n",
      "Esta é a lista que você fez: [6, 2, 3, 1, 9] \n",
      "Sua lista não está ordenada!\n",
      "Ordenei a lista pra você, aqui está ela [1, 2, 3, 6, 9]\n"
     ]
    }
   ],
   "source": [
    "print('Iremos fazer uma lista com 5 números')\n",
    "\n",
    "a=int(input('\\nEscolha o primeiro elemento da sua lista: '))\n",
    "b=int(input('Escolha o segundo elemento da sua lista: '))\n",
    "c=int(input('Escolha o terceiro elemento da sua lista: '))\n",
    "d=int(input('Escolha o quarto elemento da sua lista: '))\n",
    "e=int(input('Escolha o quinto elemento da sua lista: '))\n",
    "\n",
    "lista1 = [a, b, c, d, e]\n",
    "print('\\nEsta é a lista que você fez: {} '.format(lista1))\n",
    "\n",
    "if a<=b<=c<=d<=e: print('Sua lista está ordenada!')\n",
    "else: \n",
    "    print('Sua lista não está ordenada!')   \n",
    "    lista1.sort()\n",
    "    print('Ordenei a lista pra você, aqui está ela {}'.format(lista1))\n"
   ]
  }
 ],
 "metadata": {
  "kernelspec": {
   "display_name": "Python 3",
   "language": "python",
   "name": "python3"
  },
  "language_info": {
   "codemirror_mode": {
    "name": "ipython",
    "version": 3
   },
   "file_extension": ".py",
   "mimetype": "text/x-python",
   "name": "python",
   "nbconvert_exporter": "python",
   "pygments_lexer": "ipython3",
   "version": "3.8.5"
  }
 },
 "nbformat": 4,
 "nbformat_minor": 4
}
